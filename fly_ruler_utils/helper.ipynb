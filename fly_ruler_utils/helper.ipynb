{
 "cells": [
  {
   "cell_type": "code",
   "execution_count": 1,
   "metadata": {},
   "outputs": [
    {
     "data": {
      "text/plain": [
       "array([[ 5,  5,  5,  5,  5],\n",
       "       [10, 10, 10, 10, 10],\n",
       "       [15, 15, 15, 15, 15],\n",
       "       [20, 20, 20, 20, 20]])"
      ]
     },
     "execution_count": 1,
     "metadata": {},
     "output_type": "execute_result"
    }
   ],
   "source": [
    "import numpy as np\n",
    "\n",
    "m = np.arange(25)\n",
    "m = m.reshape((5, 5))\n",
    "\n",
    "m[1:] - m[0]"
   ]
  },
  {
   "cell_type": "code",
   "execution_count": 4,
   "metadata": {},
   "outputs": [
    {
     "data": {
      "text/plain": [
       "array([12, 10, 11])"
      ]
     },
     "execution_count": 4,
     "metadata": {},
     "output_type": "execute_result"
    }
   ],
   "source": [
    "index = np.array([2, 0, 1])\n",
    "fsim = np.array([10, 11, 12])\n",
    "fsim = np.take(fsim, index, 0)\n",
    "fsim"
   ]
  },
  {
   "cell_type": "code",
   "execution_count": 4,
   "metadata": {},
   "outputs": [
    {
     "data": {
      "text/plain": [
       "array([5, 7, 9])"
      ]
     },
     "execution_count": 4,
     "metadata": {},
     "output_type": "execute_result"
    }
   ],
   "source": [
    "sim = np.array([[1, 2, 3], [4, 5, 6], [7, 8, 9]])\n",
    "xbar = np.add.reduce(sim[:-1], 0) / 3\n",
    "xbar"
   ]
  },
  {
   "cell_type": "code",
   "execution_count": 1,
   "metadata": {},
   "outputs": [
    {
     "data": {
      "text/plain": [
       "(array([-0.99999627,  0.99998876]), 1.55686242745356e-09)"
      ]
     },
     "execution_count": 1,
     "metadata": {},
     "output_type": "execute_result"
    }
   ],
   "source": [
    "import numpy as np\n",
    "from numpy import asfarray\n",
    "\n",
    "\n",
    "def minimize_neldermead(func, x0, maxiter=100, initial_simplex=None,\n",
    "                        xatol=1e-4, fatol=1e-4, adaptive=False, bounds=None):\n",
    "    \"\"\"\n",
    "    Args:\n",
    "        bounds: Sequence of ``(min, max)`` pairs for each element in `x`. None\n",
    "                is used to specify no bound.\n",
    "    \"\"\"\n",
    "\n",
    "    x0 = asfarray(x0).flatten()\n",
    "\n",
    "    # 设定反射 rho、扩展 gamma、收缩 psi、回退 sigma 系数\n",
    "    # 系数可以为固定 / 自适应\n",
    "    if adaptive:\n",
    "        dim = float(len(x0))\n",
    "        rho = 1\n",
    "        gamma = 1 + 2/dim\n",
    "        alpha = 0.75 - 1/(2*dim)\n",
    "        sigma = 1 - 1/dim\n",
    "    else:\n",
    "        rho = 1\n",
    "        gamma = 2\n",
    "        alpha = 0.5\n",
    "        sigma = 0.5\n",
    "\n",
    "    # 设定解的上下界\n",
    "    if bounds is not None:\n",
    "        dim = len(x0)\n",
    "        lower_bound = [bounds[i][0] for i in range(dim)]\n",
    "        upper_bound = [bounds[i][1] for i in range(dim)]\n",
    "    \n",
    "    # 将初始解根据上下界进行截断\n",
    "    if bounds is not None:\n",
    "        x0 = np.clip(x0, lower_bound, upper_bound)\n",
    "\n",
    "    # 设置初始单纯形\n",
    "    # 如果未给定初始单纯形：在初始解x0的基础上在各个维度伸缩 nonzdelt = 0.05\n",
    "    nonzdelt = 0.05\n",
    "    zdelt = 0.00025\n",
    "    if initial_simplex is None:\n",
    "        N = len(x0)\n",
    "        sim = np.empty((N + 1, N), dtype=x0.dtype)\n",
    "        sim[0] = x0\n",
    "        for k in range(N):\n",
    "            y = np.array(x0, copy=True)\n",
    "            if y[k] != 0:\n",
    "                y[k] = (1 + nonzdelt) * y[k]\n",
    "            else:\n",
    "                y[k] = zdelt\n",
    "            sim[k + 1] = y\n",
    "    else:\n",
    "        sim = np.asfarray(initial_simplex).copy()\n",
    "        N = sim.shape[1]\n",
    "\n",
    "    # 将初始单纯形根据上下界截断\n",
    "    if bounds is not None:\n",
    "        sim = np.clip(sim, lower_bound, upper_bound)\n",
    "\n",
    "    one2np1 = list(range(1, N + 1))\n",
    "    fsim = np.empty((N + 1,), float)\n",
    "\n",
    "    for k in range(N + 1):\n",
    "        fsim[k] = func(sim[k])\n",
    "\n",
    "    # 根据func(x)值排序，sim[0,:]为最优值\n",
    "    ind = np.argsort(fsim)\n",
    "    fsim = np.take(fsim, ind, 0)\n",
    "    sim = np.take(sim, ind, 0)\n",
    "\n",
    "    iterations = 1\n",
    "\n",
    "    while iterations < maxiter:\n",
    "\n",
    "        # 当顶点距离最大值或者目标值最大值小于一定值时，结束迭代\n",
    "        if (np.max(np.ravel(np.abs(sim[1:] - sim[0]))) <= xatol and\n",
    "                np.max(np.abs(fsim[0] - fsim[1:])) <= fatol):\n",
    "            break\n",
    "        \n",
    "        # 重心 := 平均值\n",
    "        xbar = np.add.reduce(sim[:-1], 0) / N\n",
    "\n",
    "        # 反射值\n",
    "        xr = (1 + rho) * xbar - rho * sim[-1]\n",
    "        if bounds is not None:\n",
    "            xr = np.clip(xr, lower_bound, upper_bound)\n",
    "        fxr = func(xr)\n",
    "\n",
    "        # 控制是否回退\n",
    "        doshrink = 0\n",
    "\n",
    "        if fxr < fsim[0]:  # 如果反射点为最优点，计算扩展点\n",
    "            # 扩展点\n",
    "            xe = (1 + rho * gamma) * xbar - rho * gamma * sim[-1]\n",
    "            # 截断\n",
    "            if bounds is not None:\n",
    "                xe = np.clip(xe, lower_bound, upper_bound)\n",
    "            fxe = func(xe)\n",
    "\n",
    "            if fxe < fxr:  # 如果扩展点优于反射点，将最差点替换为扩展点\n",
    "                sim[-1] = xe\n",
    "                fsim[-1] = fxe\n",
    "            else:  # 如果扩展点不是最优点，将最差点替换为反射点\n",
    "                sim[-1] = xr\n",
    "                fsim[-1] = fxr\n",
    "        else:  # fsim[0] <= fxr, 反射点不是最优点\n",
    "            if fxr < fsim[-2]:  # 如果反射点不是最优点，但是优于第二差点，替换最差点为反射点\n",
    "                sim[-1] = xr \n",
    "                fsim[-1] = fxr\n",
    "            else:  # fxr >= fsim[-2]，反射点不是最优点，但是优于第二差点\n",
    "                if fxr < fsim[-1]:  # 反射点优于最差点\n",
    "                    # 收缩点\n",
    "                    xc = (1 + alpha * rho) * xbar - alpha * rho * sim[-1]\n",
    "                    if bounds is not None:\n",
    "                        xc = np.clip(xc, lower_bound, upper_bound)\n",
    "                    fxc = func(xc)\n",
    "\n",
    "                    if fxc <= fxr: # 如果收缩点优于反射点\n",
    "                        sim[-1] = xc \n",
    "                        fsim[-1] = fxc\n",
    "                    else:\n",
    "                        doshrink = 1\n",
    "                else:  # 反射点差于最差点\n",
    "                    # 内收缩点\n",
    "                    xcc = (1 - alpha) * xbar + alpha * sim[-1]\n",
    "                    if bounds is not None:\n",
    "                        xcc = np.clip(xcc, lower_bound, upper_bound)\n",
    "                    fxcc = func(xcc)\n",
    "\n",
    "                    if fxcc < fsim[-1]:  # 如果内收缩点优于最差点，替代最差点\n",
    "                        sim[-1] = xcc\n",
    "                        fsim[-1] = fxcc\n",
    "                    else:\n",
    "                        doshrink = 1\n",
    "\n",
    "                if doshrink:  # 回退\n",
    "                    for j in one2np1:\n",
    "                        sim[j] = sim[0] + sigma * (sim[j] - sim[0])\n",
    "                        if bounds is not None:\n",
    "                            sim[j] = np.clip(sim[j], lower_bound, upper_bound)\n",
    "                        fsim[j] = func(sim[j])\n",
    "\n",
    "        ind = np.argsort(fsim)\n",
    "        sim = np.take(sim, ind, 0)\n",
    "        fsim = np.take(fsim, ind, 0)\n",
    "        iterations += 1\n",
    "\n",
    "    x = sim[0]\n",
    "    fval = np.min(fsim)\n",
    "\n",
    "    return x, fval\n",
    "\n",
    "def func(x):\n",
    "    return 100.0 * (x[1] - x[0]**2)**2 + (1.0 - x[1])**2\n",
    "\n",
    "x_0 = np.array([-1.2, 1.0])\n",
    "\n",
    "res = minimize_neldermead(func, x_0)\n",
    "res"
   ]
  }
 ],
 "metadata": {
  "kernelspec": {
   "display_name": "notebook",
   "language": "python",
   "name": "python3"
  },
  "language_info": {
   "codemirror_mode": {
    "name": "ipython",
    "version": 3
   },
   "file_extension": ".py",
   "mimetype": "text/x-python",
   "name": "python",
   "nbconvert_exporter": "python",
   "pygments_lexer": "ipython3",
   "version": "3.9.18"
  }
 },
 "nbformat": 4,
 "nbformat_minor": 2
}
